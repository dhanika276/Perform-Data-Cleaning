{
  "nbformat": 4,
  "nbformat_minor": 0,
  "metadata": {
    "colab": {
      "provenance": [],
      "toc_visible": true
    },
    "kernelspec": {
      "name": "python3",
      "display_name": "Python 3"
    },
    "language_info": {
      "name": "python"
    }
  },
  "cells": [
    {
      "cell_type": "code",
      "execution_count": null,
      "metadata": {
        "id": "eeBW7zQq7pQR"
      },
      "outputs": [],
      "source": []
    },
    {
      "cell_type": "markdown",
      "source": [
        "Task 1: Perform Data Cleaning\n",
        "Clean a dataset by removing missing values and outliers.\n",
        "by Dhanika Hegde"
      ],
      "metadata": {
        "id": "q8-gX5xy7qM7"
      }
    },
    {
      "cell_type": "markdown",
      "source": [
        "Implementing the Dependecies"
      ],
      "metadata": {
        "id": "XaoXhBz77-em"
      }
    },
    {
      "cell_type": "code",
      "source": [
        " import pandas as pd\n",
        "import numpy as np\n",
        "import seaborn as sns"
      ],
      "metadata": {
        "id": "e4VQ10qv8eAr"
      },
      "execution_count": null,
      "outputs": []
    },
    {
      "cell_type": "markdown",
      "source": [
        "Data Reading"
      ],
      "metadata": {
        "id": "aioOzV1n8Pcq"
      }
    },
    {
      "cell_type": "code",
      "source": [
        "gender_data = pd.read_csv(\"/content/gender_submission.csv\")"
      ],
      "metadata": {
        "id": "-ltdm8JE8R3J"
      },
      "execution_count": null,
      "outputs": []
    },
    {
      "cell_type": "code",
      "source": [
        "print(gender_data)"
      ],
      "metadata": {
        "colab": {
          "base_uri": "https://localhost:8080/"
        },
        "id": "P0hgJ-Ba937W",
        "outputId": "71bbd20b-ee74-4ccf-dad6-a59c5b21cc1c"
      },
      "execution_count": null,
      "outputs": [
        {
          "output_type": "stream",
          "name": "stdout",
          "text": [
            "     PassengerId  Survived\n",
            "0            892         0\n",
            "1            893         1\n",
            "2            894         0\n",
            "3            895         0\n",
            "4            896         1\n",
            "..           ...       ...\n",
            "413         1305         0\n",
            "414         1306         1\n",
            "415         1307         0\n",
            "416         1308         0\n",
            "417         1309         0\n",
            "\n",
            "[418 rows x 2 columns]\n"
          ]
        }
      ]
    },
    {
      "cell_type": "markdown",
      "source": [
        "Data Cleaning"
      ],
      "metadata": {
        "id": "iFD5V2jS-B6o"
      }
    },
    {
      "cell_type": "markdown",
      "source": [
        "Fill the missing values for the passenger id and survival columns. In order to fill missing values we use fillna method now we will fill the missing values of both the columns by talking the mean of the columns"
      ],
      "metadata": {
        "id": "YVozBiP_-L38"
      }
    },
    {
      "cell_type": "code",
      "source": [
        "#fill Passenger ID column\n",
        "gender_data[\"PassengerId\"].fillna(gender_data[\"PassengerId\"].mean(),inplace=True)"
      ],
      "metadata": {
        "id": "qNEFkNy1-vzZ"
      },
      "execution_count": null,
      "outputs": []
    },
    {
      "cell_type": "code",
      "source": [
        "gender_data[\"PassengerId\"].isna().sum()"
      ],
      "metadata": {
        "colab": {
          "base_uri": "https://localhost:8080/"
        },
        "id": "Y427J0oa_cll",
        "outputId": "59710147-f0d5-46f4-a89f-75e6a6e7ba1c"
      },
      "execution_count": null,
      "outputs": [
        {
          "output_type": "execute_result",
          "data": {
            "text/plain": [
              "0"
            ]
          },
          "metadata": {},
          "execution_count": 6
        }
      ]
    },
    {
      "cell_type": "code",
      "source": [
        "#fill Survived column\n",
        "gender_data['Survived'].fillna(gender_data[\"Survived\"].mean(),inplace=True)\n"
      ],
      "metadata": {
        "id": "i0rQMpTq_pO4"
      },
      "execution_count": null,
      "outputs": []
    },
    {
      "cell_type": "code",
      "source": [
        "gender_data[\"Survived\"].isna().sum()"
      ],
      "metadata": {
        "colab": {
          "base_uri": "https://localhost:8080/"
        },
        "id": "-5Hq--gcAMAS",
        "outputId": "d00cf031-7fdc-4334-a8d3-dca5b8d56633"
      },
      "execution_count": null,
      "outputs": [
        {
          "output_type": "execute_result",
          "data": {
            "text/plain": [
              "0"
            ]
          },
          "metadata": {},
          "execution_count": 8
        }
      ]
    },
    {
      "cell_type": "markdown",
      "source": [
        "Alternatively we will visualize the null value using heatmap"
      ],
      "metadata": {
        "id": "xib57tPZAYZ2"
      }
    },
    {
      "cell_type": "markdown",
      "source": [
        "we will use heatmap method by passing only records which are null"
      ],
      "metadata": {
        "id": "uevB4cikAkD4"
      }
    },
    {
      "cell_type": "code",
      "source": [
        "sns.heatmap(gender_data.isna())"
      ],
      "metadata": {
        "colab": {
          "base_uri": "https://localhost:8080/",
          "height": 453
        },
        "id": "6FjGxGDsAXiw",
        "outputId": "e8c8d9e6-8b2d-44bd-9db2-26cf3e7e0848"
      },
      "execution_count": null,
      "outputs": [
        {
          "output_type": "execute_result",
          "data": {
            "text/plain": [
              "<Axes: >"
            ]
          },
          "metadata": {},
          "execution_count": 9
        },
        {
          "output_type": "display_data",
          "data": {
            "text/plain": [
              "<Figure size 640x480 with 2 Axes>"
            ],
            "image/png": "[encoded data removed]"
          },
          "metadata": {}
        }
      ]
    },
    {
      "cell_type": "markdown",
      "source": [
        "We can conclude from the above heatmap that there is no null value left in our dataset"
      ],
      "metadata": {
        "id": "qbdwVh-rBGEA"
      }
    }
  ]
}